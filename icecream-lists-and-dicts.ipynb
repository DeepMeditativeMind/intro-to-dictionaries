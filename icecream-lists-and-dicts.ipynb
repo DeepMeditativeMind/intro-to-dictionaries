{
 "metadata": {
  "name": "",
  "signature": "sha256:843c2b2699f62494370f739a22b92c15b14103c219731104cd0922e45e4415d9"
 },
 "nbformat": 3,
 "nbformat_minor": 0,
 "worksheets": [
  {
   "cells": [
    {
     "cell_type": "markdown",
     "metadata": {},
     "source": [
      "Source code for this notebook is here: https://github.com/racheltho/intro-to-dictionaries\n",
      "\n",
      "Problem:  You want to poll your friends about their favorite ice cream flavors.\n",
      "\n",
      "How to store this info using **lists**?"
     ]
    },
    {
     "cell_type": "code",
     "collapsed": false,
     "input": [
      "# using 2 lists\n",
      "flavors = []\n",
      "votes = []\n",
      "\n",
      "while True:\n",
      "    input_var = raw_input(\"Enter your favorite ice cream (or 'q' to quit): \")\n",
      "    if input_var == 'q':\n",
      "        break\n",
      "    if input_var in flavors:\n",
      "        index = flavors.index(input_var)\n",
      "        votes[index] += 1\n",
      "    else:\n",
      "        flavors.append(input_var)\n",
      "        votes.append(1)\n",
      "    print flavors\n",
      "    print votes"
     ],
     "language": "python",
     "metadata": {},
     "outputs": [
      {
       "name": "stdout",
       "output_type": "stream",
       "stream": "stdout",
       "text": [
        "Enter your favorite ice cream (or 'q' to quit): chocolate\n"
       ]
      },
      {
       "output_type": "stream",
       "stream": "stdout",
       "text": [
        "['chocolate']\n",
        "[1]\n"
       ]
      },
      {
       "name": "stdout",
       "output_type": "stream",
       "stream": "stdout",
       "text": [
        "Enter your favorite ice cream (or 'q' to quit): ginger\n"
       ]
      },
      {
       "output_type": "stream",
       "stream": "stdout",
       "text": [
        "['chocolate', 'ginger']\n",
        "[1, 1]\n"
       ]
      },
      {
       "name": "stdout",
       "output_type": "stream",
       "stream": "stdout",
       "text": [
        "Enter your favorite ice cream (or 'q' to quit): cookies n cream\n"
       ]
      },
      {
       "output_type": "stream",
       "stream": "stdout",
       "text": [
        "['chocolate', 'ginger', 'cookies n cream']\n",
        "[1, 1, 1]\n"
       ]
      },
      {
       "name": "stdout",
       "output_type": "stream",
       "stream": "stdout",
       "text": [
        "Enter your favorite ice cream (or 'q' to quit): chocolate\n"
       ]
      },
      {
       "output_type": "stream",
       "stream": "stdout",
       "text": [
        "['chocolate', 'ginger', 'cookies n cream']\n",
        "[2, 1, 1]\n"
       ]
      },
      {
       "name": "stdout",
       "output_type": "stream",
       "stream": "stdout",
       "text": [
        "Enter your favorite ice cream (or 'q' to quit): chocolate\n"
       ]
      },
      {
       "output_type": "stream",
       "stream": "stdout",
       "text": [
        "['chocolate', 'ginger', 'cookies n cream']\n",
        "[3, 1, 1]\n"
       ]
      },
      {
       "name": "stdout",
       "output_type": "stream",
       "stream": "stdout",
       "text": [
        "Enter your favorite ice cream (or 'q' to quit): q\n"
       ]
      }
     ],
     "prompt_number": 1
    },
    {
     "cell_type": "code",
     "collapsed": false,
     "input": [
      "# using a list of lists\n",
      "favorites = []  # will have format [[flavor1, votes1], [flavor2, votes2]]\n",
      "\n",
      "while True:\n",
      "    input_var = raw_input(\"Enter your favorite ice cream (or 'q' to quit): \")\n",
      "    if input_var == 'q':\n",
      "        break\n",
      "    already_in_list = False\n",
      "    for pair in favorites:\n",
      "        if pair[0] == input_var:\n",
      "            pair[1] += 1\n",
      "            already_in_list = True\n",
      "    if not already_in_list:\n",
      "        favorites.append([input_var, 1])\n",
      "    print favorites"
     ],
     "language": "python",
     "metadata": {},
     "outputs": [
      {
       "name": "stdout",
       "output_type": "stream",
       "stream": "stdout",
       "text": [
        "Enter your favorite ice cream (or 'q' to quit): caramel\n"
       ]
      },
      {
       "output_type": "stream",
       "stream": "stdout",
       "text": [
        "[['caramel', 1]]\n"
       ]
      },
      {
       "name": "stdout",
       "output_type": "stream",
       "stream": "stdout",
       "text": [
        "Enter your favorite ice cream (or 'q' to quit): ginger\n"
       ]
      },
      {
       "output_type": "stream",
       "stream": "stdout",
       "text": [
        "[['caramel', 1], ['ginger', 1]]\n"
       ]
      },
      {
       "name": "stdout",
       "output_type": "stream",
       "stream": "stdout",
       "text": [
        "Enter your favorite ice cream (or 'q' to quit): ginger\n"
       ]
      },
      {
       "output_type": "stream",
       "stream": "stdout",
       "text": [
        "[['caramel', 1], ['ginger', 2]]\n"
       ]
      },
      {
       "name": "stdout",
       "output_type": "stream",
       "stream": "stdout",
       "text": [
        "Enter your favorite ice cream (or 'q' to quit): green tea\n"
       ]
      },
      {
       "output_type": "stream",
       "stream": "stdout",
       "text": [
        "[['caramel', 1], ['ginger', 2], ['green tea', 1]]\n"
       ]
      },
      {
       "name": "stdout",
       "output_type": "stream",
       "stream": "stdout",
       "text": [
        "Enter your favorite ice cream (or 'q' to quit): q\n"
       ]
      }
     ],
     "prompt_number": 2
    },
    {
     "cell_type": "code",
     "collapsed": false,
     "input": [
      "for pair in favorites:\n",
      "    print str(pair[1]) + \" people like \" + pair[0]"
     ],
     "language": "python",
     "metadata": {},
     "outputs": [
      {
       "output_type": "stream",
       "stream": "stdout",
       "text": [
        "1 people like caramel\n",
        "2 people like ginger\n",
        "1 people like green tea\n"
       ]
      }
     ],
     "prompt_number": 3
    },
    {
     "cell_type": "markdown",
     "metadata": {},
     "source": [
      "Now, let's rewrite this program with a **dictionary**:"
     ]
    },
    {
     "cell_type": "code",
     "collapsed": false,
     "input": [
      "icecream = {}   # can also use icecream = dict()\n",
      "\n",
      "while True:\n",
      "    input_var = raw_input(\"Enter your favorite ice cream (or 'q' to quit): \")\n",
      "    if input_var == 'q':\n",
      "        break\n",
      "    if input_var in icecream:\n",
      "        icecream[input_var] += 1\n",
      "    else:\n",
      "        icecream[input_var] = 1\n",
      "    print icecream"
     ],
     "language": "python",
     "metadata": {},
     "outputs": [
      {
       "name": "stdout",
       "output_type": "stream",
       "stream": "stdout",
       "text": [
        "Enter your favorite ice cream (or 'q' to quit): mint chip\n"
       ]
      },
      {
       "output_type": "stream",
       "stream": "stdout",
       "text": [
        "{'mint chip': 1}\n"
       ]
      },
      {
       "name": "stdout",
       "output_type": "stream",
       "stream": "stdout",
       "text": [
        "Enter your favorite ice cream (or 'q' to quit): ginger\n"
       ]
      },
      {
       "output_type": "stream",
       "stream": "stdout",
       "text": [
        "{'ginger': 1, 'mint chip': 1}\n"
       ]
      },
      {
       "name": "stdout",
       "output_type": "stream",
       "stream": "stdout",
       "text": [
        "Enter your favorite ice cream (or 'q' to quit): vanilla\n"
       ]
      },
      {
       "output_type": "stream",
       "stream": "stdout",
       "text": [
        "{'vanilla': 1, 'ginger': 1, 'mint chip': 1}\n"
       ]
      },
      {
       "name": "stdout",
       "output_type": "stream",
       "stream": "stdout",
       "text": [
        "Enter your favorite ice cream (or 'q' to quit): mint chip\n"
       ]
      },
      {
       "output_type": "stream",
       "stream": "stdout",
       "text": [
        "{'vanilla': 1, 'ginger': 1, 'mint chip': 2}\n"
       ]
      },
      {
       "name": "stdout",
       "output_type": "stream",
       "stream": "stdout",
       "text": [
        "Enter your favorite ice cream (or 'q' to quit): vanilla\n"
       ]
      },
      {
       "output_type": "stream",
       "stream": "stdout",
       "text": [
        "{'vanilla': 2, 'ginger': 1, 'mint chip': 2}\n"
       ]
      },
      {
       "name": "stdout",
       "output_type": "stream",
       "stream": "stdout",
       "text": [
        "Enter your favorite ice cream (or 'q' to quit): q\n"
       ]
      }
     ],
     "prompt_number": 4
    },
    {
     "cell_type": "code",
     "collapsed": false,
     "input": [
      "icecream['vanilla']"
     ],
     "language": "python",
     "metadata": {},
     "outputs": [
      {
       "metadata": {},
       "output_type": "pyout",
       "prompt_number": 5,
       "text": [
        "2"
       ]
      }
     ],
     "prompt_number": 5
    },
    {
     "cell_type": "code",
     "collapsed": false,
     "input": [
      "for flavor, votes in icecream.items():\n",
      "    print str(votes) + \" people like \" + flavor"
     ],
     "language": "python",
     "metadata": {},
     "outputs": [
      {
       "output_type": "stream",
       "stream": "stdout",
       "text": [
        "2 people like vanilla\n",
        "1 people like ginger\n",
        "2 people like mint chip\n"
       ]
      }
     ],
     "prompt_number": 6
    },
    {
     "cell_type": "markdown",
     "metadata": {},
     "source": [
      "More dictionary methods:"
     ]
    },
    {
     "cell_type": "code",
     "collapsed": false,
     "input": [
      "print icecream.keys()"
     ],
     "language": "python",
     "metadata": {},
     "outputs": [
      {
       "output_type": "stream",
       "stream": "stdout",
       "text": [
        "['vanilla', 'ginger', 'mint chip']\n"
       ]
      }
     ],
     "prompt_number": 7
    },
    {
     "cell_type": "code",
     "collapsed": false,
     "input": [
      "print icecream.values()"
     ],
     "language": "python",
     "metadata": {},
     "outputs": [
      {
       "output_type": "stream",
       "stream": "stdout",
       "text": [
        "[2, 1, 2]\n"
       ]
      }
     ],
     "prompt_number": 8
    },
    {
     "cell_type": "code",
     "collapsed": false,
     "input": [
      "del icecream['mint chip']\n",
      "print icecream"
     ],
     "language": "python",
     "metadata": {},
     "outputs": [
      {
       "output_type": "stream",
       "stream": "stdout",
       "text": [
        "{'vanilla': 2, 'ginger': 1}\n"
       ]
      }
     ],
     "prompt_number": 9
    },
    {
     "cell_type": "markdown",
     "metadata": {},
     "source": [
      "Dictionaries are very flexible.  Keys and values can be different types:"
     ]
    },
    {
     "cell_type": "code",
     "collapsed": false,
     "input": [
      "stuff = {3: 'sheep', 5.8: 6, 'my_dict': {'a': 3}, 2: [1, 2]}"
     ],
     "language": "python",
     "metadata": {},
     "outputs": [],
     "prompt_number": 10
    }
   ],
   "metadata": {}
  }
 ]
}