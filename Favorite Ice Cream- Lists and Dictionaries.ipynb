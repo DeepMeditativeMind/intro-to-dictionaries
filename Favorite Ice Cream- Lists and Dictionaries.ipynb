{
 "metadata": {
  "name": "",
  "signature": "sha256:4c1468b2852aadf9de0edba25f06d11ef10a5325b64ab11c9ee54425b82fac88"
 },
 "nbformat": 3,
 "nbformat_minor": 0,
 "worksheets": [
  {
   "cells": [
    {
     "cell_type": "markdown",
     "metadata": {},
     "source": [
      "Problem:  You want to poll your friends about their favorite ice cream flavors.\n",
      "\n",
      "How to store this info using **lists**?"
     ]
    },
    {
     "cell_type": "code",
     "collapsed": false,
     "input": [
      "# using 2 lists\n",
      "flavors = []\n",
      "votes = []\n",
      "\n",
      "while True:\n",
      "    input_var = raw_input(\"Enter your favorite ice cream (or 'q' to quit): \")\n",
      "    if input_var == 'q':\n",
      "        break\n",
      "    if input_var in flavors:\n",
      "        index = flavors.index(input_var)\n",
      "        votes[index] += 1\n",
      "    else:\n",
      "        flavors.append(input_var)\n",
      "        votes.append(1)\n",
      "    print flavors\n",
      "    print votes"
     ],
     "language": "python",
     "metadata": {},
     "outputs": [
      {
       "name": "stdout",
       "output_type": "stream",
       "stream": "stdout",
       "text": [
        "Enter your favorite ice cream (or 'q' to quit): ginger\n"
       ]
      },
      {
       "output_type": "stream",
       "stream": "stdout",
       "text": [
        "['ginger']\n",
        "[1]\n"
       ]
      },
      {
       "name": "stdout",
       "output_type": "stream",
       "stream": "stdout",
       "text": [
        "Enter your favorite ice cream (or 'q' to quit): chocolate\n"
       ]
      },
      {
       "output_type": "stream",
       "stream": "stdout",
       "text": [
        "['ginger', 'chocolate']\n",
        "[1, 1]\n"
       ]
      },
      {
       "name": "stdout",
       "output_type": "stream",
       "stream": "stdout",
       "text": [
        "Enter your favorite ice cream (or 'q' to quit): mocha difference\n"
       ]
      },
      {
       "output_type": "stream",
       "stream": "stdout",
       "text": [
        "['ginger', 'chocolate', 'mocha difference']\n",
        "[1, 1, 1]\n"
       ]
      },
      {
       "name": "stdout",
       "output_type": "stream",
       "stream": "stdout",
       "text": [
        "Enter your favorite ice cream (or 'q' to quit): ginger\n"
       ]
      },
      {
       "output_type": "stream",
       "stream": "stdout",
       "text": [
        "['ginger', 'chocolate', 'mocha difference']\n",
        "[2, 1, 1]\n"
       ]
      },
      {
       "name": "stdout",
       "output_type": "stream",
       "stream": "stdout",
       "text": [
        "Enter your favorite ice cream (or 'q' to quit): q\n"
       ]
      }
     ],
     "prompt_number": 13
    },
    {
     "cell_type": "code",
     "collapsed": false,
     "input": [
      "# using a list of lists\n",
      "favorites = []  # will have format [[flavor1, votes1], [flavor2, votes2]]\n",
      "\n",
      "while True:\n",
      "    input_var = raw_input(\"Enter your favorite ice cream (or 'q' to quit): \")\n",
      "    if input_var == 'q':\n",
      "        break\n",
      "    already_in_list = False\n",
      "    for pair in favorites:\n",
      "        if pair[0] == input_var:\n",
      "            pair[1] += 1\n",
      "            already_in_list = True\n",
      "    if not already_in_list:\n",
      "        favorites.append([input_var, 1])\n",
      "    print favorites"
     ],
     "language": "python",
     "metadata": {},
     "outputs": [
      {
       "name": "stdout",
       "output_type": "stream",
       "stream": "stdout",
       "text": [
        "Enter your favorite ice cream (or 'q' to quit): ginger\n"
       ]
      },
      {
       "output_type": "stream",
       "stream": "stdout",
       "text": [
        "[['ginger', 1]]\n"
       ]
      },
      {
       "name": "stdout",
       "output_type": "stream",
       "stream": "stdout",
       "text": [
        "Enter your favorite ice cream (or 'q' to quit): caramel\n"
       ]
      },
      {
       "output_type": "stream",
       "stream": "stdout",
       "text": [
        "[['ginger', 1], ['caramel', 1]]\n"
       ]
      },
      {
       "name": "stdout",
       "output_type": "stream",
       "stream": "stdout",
       "text": [
        "Enter your favorite ice cream (or 'q' to quit): caramel\n"
       ]
      },
      {
       "output_type": "stream",
       "stream": "stdout",
       "text": [
        "[['ginger', 1], ['caramel', 2]]\n"
       ]
      },
      {
       "name": "stdout",
       "output_type": "stream",
       "stream": "stdout",
       "text": [
        "Enter your favorite ice cream (or 'q' to quit): chocolate\n"
       ]
      },
      {
       "output_type": "stream",
       "stream": "stdout",
       "text": [
        "[['ginger', 1], ['caramel', 2], ['chocolate', 1]]\n"
       ]
      },
      {
       "name": "stdout",
       "output_type": "stream",
       "stream": "stdout",
       "text": [
        "Enter your favorite ice cream (or 'q' to quit): \n"
       ]
      },
      {
       "output_type": "stream",
       "stream": "stdout",
       "text": [
        "[['ginger', 1], ['caramel', 2], ['chocolate', 1], ['', 1]]\n"
       ]
      },
      {
       "name": "stdout",
       "output_type": "stream",
       "stream": "stdout",
       "text": [
        "Enter your favorite ice cream (or 'q' to quit): q\n"
       ]
      }
     ],
     "prompt_number": 29
    },
    {
     "cell_type": "code",
     "collapsed": false,
     "input": [
      "for pair in favorites:\n",
      "    print str(pair[1]) + \" people like \" + pair[0]"
     ],
     "language": "python",
     "metadata": {},
     "outputs": [
      {
       "output_type": "stream",
       "stream": "stdout",
       "text": [
        "1 people like ginger\n",
        "2 people like caramel\n",
        "1 people like chocolate\n",
        "1 people like \n"
       ]
      }
     ],
     "prompt_number": 31
    },
    {
     "cell_type": "markdown",
     "metadata": {},
     "source": [
      "Now, let's rewrite this program with a **dictionary**:"
     ]
    },
    {
     "cell_type": "code",
     "collapsed": false,
     "input": [
      "icecream = {}   # can also use icecream = dict()\n",
      "\n",
      "while True:\n",
      "    input_var = raw_input(\"Enter your favorite ice cream (or 'q' to quit): \")\n",
      "    if input_var == 'q':\n",
      "        break\n",
      "    if input_var in icecream:\n",
      "        icecream[input_var] += 1\n",
      "    else:\n",
      "        icecream[input_var] = 1\n",
      "    print icecream"
     ],
     "language": "python",
     "metadata": {},
     "outputs": [
      {
       "name": "stdout",
       "output_type": "stream",
       "stream": "stdout",
       "text": [
        "Enter your favorite ice cream (or 'q' to quit): ginger\n"
       ]
      },
      {
       "output_type": "stream",
       "stream": "stdout",
       "text": [
        "{'ginger': 1}\n"
       ]
      },
      {
       "name": "stdout",
       "output_type": "stream",
       "stream": "stdout",
       "text": [
        "Enter your favorite ice cream (or 'q' to quit): ginger\n"
       ]
      },
      {
       "output_type": "stream",
       "stream": "stdout",
       "text": [
        "{'ginger': 2}\n"
       ]
      },
      {
       "name": "stdout",
       "output_type": "stream",
       "stream": "stdout",
       "text": [
        "Enter your favorite ice cream (or 'q' to quit): vanilla\n"
       ]
      },
      {
       "output_type": "stream",
       "stream": "stdout",
       "text": [
        "{'vanilla': 1, 'ginger': 2}\n"
       ]
      },
      {
       "name": "stdout",
       "output_type": "stream",
       "stream": "stdout",
       "text": [
        "Enter your favorite ice cream (or 'q' to quit): caramel\n"
       ]
      },
      {
       "output_type": "stream",
       "stream": "stdout",
       "text": [
        "{'vanilla': 1, 'caramel': 1, 'ginger': 2}\n"
       ]
      },
      {
       "name": "stdout",
       "output_type": "stream",
       "stream": "stdout",
       "text": [
        "Enter your favorite ice cream (or 'q' to quit): q\n"
       ]
      }
     ],
     "prompt_number": 32
    },
    {
     "cell_type": "code",
     "collapsed": false,
     "input": [
      "icecream['vanilla']"
     ],
     "language": "python",
     "metadata": {},
     "outputs": [
      {
       "metadata": {},
       "output_type": "pyout",
       "prompt_number": 36,
       "text": [
        "1"
       ]
      }
     ],
     "prompt_number": 36
    },
    {
     "cell_type": "code",
     "collapsed": false,
     "input": [
      "for flavor, votes in icecream.items():\n",
      "    print str(votes) + \" people like \" + flavor"
     ],
     "language": "python",
     "metadata": {},
     "outputs": [
      {
       "output_type": "stream",
       "stream": "stdout",
       "text": [
        "1 people like vanilla\n",
        "1 people like caramel\n",
        "2 people like ginger\n"
       ]
      }
     ],
     "prompt_number": 33
    },
    {
     "cell_type": "markdown",
     "metadata": {},
     "source": [
      "More dictionary methods:"
     ]
    },
    {
     "cell_type": "code",
     "collapsed": false,
     "input": [
      "print icecream.keys()"
     ],
     "language": "python",
     "metadata": {},
     "outputs": [
      {
       "output_type": "stream",
       "stream": "stdout",
       "text": [
        "['cookies n cream', 'caramel', 'ginger', 'chocolate']\n"
       ]
      }
     ],
     "prompt_number": 8
    },
    {
     "cell_type": "code",
     "collapsed": false,
     "input": [
      "print icecream.values()"
     ],
     "language": "python",
     "metadata": {},
     "outputs": [
      {
       "output_type": "stream",
       "stream": "stdout",
       "text": [
        "[2, 1, 2, 1]\n"
       ]
      }
     ],
     "prompt_number": 9
    },
    {
     "cell_type": "code",
     "collapsed": false,
     "input": [
      "del icecream['caramel']\n",
      "print icecream"
     ],
     "language": "python",
     "metadata": {},
     "outputs": [
      {
       "output_type": "stream",
       "stream": "stdout",
       "text": [
        "{'cookies n cream': 2, 'ginger': 2, 'chocolate': 1}\n"
       ]
      }
     ],
     "prompt_number": 10
    },
    {
     "cell_type": "markdown",
     "metadata": {},
     "source": [
      "Dictionaries are very flexible.  Keys and values can be different types:"
     ]
    },
    {
     "cell_type": "code",
     "collapsed": false,
     "input": [
      "stuff = {3: 'sheep', 5.8: 6, 'my_dict': {'a': 3}, 2: [1, 2]}"
     ],
     "language": "python",
     "metadata": {},
     "outputs": [],
     "prompt_number": 18
    },
    {
     "cell_type": "code",
     "collapsed": false,
     "input": [],
     "language": "python",
     "metadata": {},
     "outputs": [
      {
       "metadata": {},
       "output_type": "pyout",
       "prompt_number": 19,
       "text": [
        "6"
       ]
      }
     ],
     "prompt_number": 19
    },
    {
     "cell_type": "code",
     "collapsed": false,
     "input": [],
     "language": "python",
     "metadata": {},
     "outputs": [
      {
       "metadata": {},
       "output_type": "pyout",
       "prompt_number": 20,
       "text": [
        "{'a': 3}"
       ]
      }
     ],
     "prompt_number": 20
    },
    {
     "cell_type": "code",
     "collapsed": false,
     "input": [],
     "language": "python",
     "metadata": {},
     "outputs": []
    }
   ],
   "metadata": {}
  }
 ]
}